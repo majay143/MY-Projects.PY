{
  "nbformat": 4,
  "nbformat_minor": 0,
  "metadata": {
    "colab": {
      "name": "Copy of Copy of Untitled0.ipynb",
      "provenance": [],
      "collapsed_sections": [],
      "authorship_tag": "ABX9TyOlLbqxt5Yw8nKMDGFhoPIr",
      "include_colab_link": true
    },
    "kernelspec": {
      "name": "python3",
      "display_name": "Python 3"
    },
    "language_info": {
      "name": "python"
    }
  },
  "cells": [
    {
      "cell_type": "markdown",
      "metadata": {
        "id": "view-in-github",
        "colab_type": "text"
      },
      "source": [
        "<a href=\"https://colab.research.google.com/github/majay143/CALCULATO.PY/blob/main/Copy_of_Copy_of_Untitled0.ipynb\" target=\"_parent\"><img src=\"https://colab.research.google.com/assets/colab-badge.svg\" alt=\"Open In Colab\"/></a>"
      ]
    },
    {
      "cell_type": "code",
      "execution_count": null,
      "metadata": {
        "colab": {
          "base_uri": "https://localhost:8080/"
        },
        "id": "AbwceswdhVqG",
        "outputId": "403158bd-ac47-40dd-9bb6-855189f7266e"
      },
      "outputs": [
        {
          "output_type": "stream",
          "name": "stdout",
          "text": [
            "hello world\n"
          ]
        }
      ],
      "source": [
        "print(\"hello world\")"
      ]
    },
    {
      "cell_type": "code",
      "source": [
        "a=90\n",
        "b=10\n",
        "c=56\n",
        "ans=(a+b+c)\n",
        "print(ans)"
      ],
      "metadata": {
        "colab": {
          "base_uri": "https://localhost:8080/"
        },
        "id": "a4Bf-zZLhiXb",
        "outputId": "af10fe4f-941b-48d4-fb72-d6359a6ab0c9"
      },
      "execution_count": null,
      "outputs": [
        {
          "output_type": "stream",
          "name": "stdout",
          "text": [
            "156\n"
          ]
        }
      ]
    },
    {
      "cell_type": "code",
      "source": [
        "x=int(input(\"Enter a value to find sum of cube of its digits = \"))\n",
        "sum=0\n",
        "while(x!=0):\n",
        "  #x=(x%10)\n",
        "  sum=sum+pow(x%10,3)\n",
        "  x=x//10 \n",
        "  print(\"Sum of cubes of each number in a given digit = \",sum)\n",
        "\n"
      ],
      "metadata": {
        "colab": {
          "base_uri": "https://localhost:8080/"
        },
        "id": "RCHObh_amR_k",
        "outputId": "d1612cdb-d0ca-4c8b-a727-a43e661a34f0"
      },
      "execution_count": null,
      "outputs": [
        {
          "output_type": "stream",
          "name": "stdout",
          "text": [
            "Enter a value to find sum of cube of its digits = 123\n",
            "Sum of cubes of each number in a given digit =  27\n",
            "Sum of cubes of each number in a given digit =  35\n",
            "Sum of cubes of each number in a given digit =  36\n"
          ]
        }
      ]
    },
    {
      "cell_type": "code",
      "source": [
        "# use of string defined functions in python\n",
        "string = \"Ajaykumar\"\n",
        "print(len(string))   # this print how many characters are in string \n"
      ],
      "metadata": {
        "colab": {
          "base_uri": "https://localhost:8080/"
        },
        "id": "LOPu463dxTJF",
        "outputId": "dbafa46f-771a-494a-9196-de7cf82886c4"
      },
      "execution_count": null,
      "outputs": [
        {
          "output_type": "stream",
          "name": "stdout",
          "text": [
            "9\n"
          ]
        }
      ]
    },
    {
      "cell_type": "code",
      "source": [
        "mystring = \"Python is easy to learn\"\n",
        "print(mystring[3:])   # to print all characters in python excluding first 3 \n"
      ],
      "metadata": {
        "colab": {
          "base_uri": "https://localhost:8080/"
        },
        "id": "ZRbOrEHqzD6Z",
        "outputId": "401467aa-7b90-443a-f5ea-852a39ec23d5"
      },
      "execution_count": null,
      "outputs": [
        {
          "output_type": "stream",
          "name": "stdout",
          "text": [
            "hon is easy to learn\n"
          ]
        }
      ]
    },
    {
      "cell_type": "code",
      "source": [
        "mystring=\"NITW\"  \n",
        "print(mystring[:2])\n",
        "# mystring[:2] is equivalent to mystring[0:2]\n",
        "#mystring[:2] #tells Python to pull first 2 characters from mystring string object.\n",
        "# above synytax extracts first 3 characters from a given string "
      ],
      "metadata": {
        "colab": {
          "base_uri": "https://localhost:8080/"
        },
        "id": "7NSHQyjc1-yR",
        "outputId": "1fcfb9d1-41dc-4e7b-d2c1-0eb17b3c1641"
      },
      "execution_count": null,
      "outputs": [
        {
          "output_type": "stream",
          "name": "stdout",
          "text": [
            "NI\n"
          ]
        }
      ]
    },
    {
      "cell_type": "code",
      "source": [
        "print(\"adding two complex numbers in python.\\n\")\n",
        "c1 = complex(input(\"Enter First Complex Number =  \"))\n",
        "c2 = complex(input(\"Enter second Complex Number = \"))\n",
        "ans=(c1+c2)\n",
        "print(\"Sum of both the Complex number is\",ans)"
      ],
      "metadata": {
        "colab": {
          "base_uri": "https://localhost:8080/"
        },
        "id": "HTaJ72qJ3EK4",
        "outputId": "149d6270-3777-47a8-ce1e-7c55b1add794"
      },
      "execution_count": null,
      "outputs": [
        {
          "output_type": "stream",
          "name": "stdout",
          "text": [
            "adding two complex numbers in python.\n",
            "\n",
            "Enter First Complex Number =  2+7j\n",
            "Enter second Complex Number = 3+5j\n",
            "Sum of both the Complex number is (5+12j)\n"
          ]
        }
      ]
    },
    {
      "cell_type": "code",
      "source": [
        "a = 11\n",
        "b = 7\n",
        "# using temp varaible \n",
        "temp = a  #// # first a is assinged to temp \n",
        "a = b  # and b is assigned to a so that value of a is updated \n",
        "b = temp  # a value which is strored in temp is assinged to b like both values are swaped\n",
        "\n",
        "print(a) # 7\n",
        "print(b) # 11"
      ],
      "metadata": {
        "colab": {
          "base_uri": "https://localhost:8080/"
        },
        "id": "TpcYI5lG6dO1",
        "outputId": "5477f994-1e40-4263-a618-3f7d5eeea739"
      },
      "execution_count": null,
      "outputs": [
        {
          "output_type": "stream",
          "name": "stdout",
          "text": [
            "7\n",
            "11\n"
          ]
        }
      ]
    },
    {
      "cell_type": "code",
      "source": [
        "a=0\n",
        "b=10\n",
        "a,b=b,a  # using tuple swapping \n",
        "print(a)\n",
        "print(b)"
      ],
      "metadata": {
        "colab": {
          "base_uri": "https://localhost:8080/"
        },
        "id": "Q_IabfQF66O0",
        "outputId": "89d274b1-6915-46f5-c322-918bb1133104"
      },
      "execution_count": null,
      "outputs": [
        {
          "output_type": "stream",
          "name": "stdout",
          "text": [
            "10\n",
            "0\n"
          ]
        }
      ]
    },
    {
      "cell_type": "code",
      "source": [
        "a=int(input(\"Enter value for a = \"))\n",
        "b=int(input(\"Enter value for b= \" ))\n",
        "a=(a*b)\n",
        "b=(a/b) # b is updtaed in this case \n",
        "a=(a/b)  # final value is stored in a variable after all updations\n",
        "print(\" Value of a after swapping = \",a)\n",
        "print(\" value of b after swapping = \",b)"
      ],
      "metadata": {
        "colab": {
          "base_uri": "https://localhost:8080/"
        },
        "id": "Lqav315B9OCZ",
        "outputId": "eb65e4b0-0c78-485b-e4f9-f03d0413ec4a"
      },
      "execution_count": null,
      "outputs": [
        {
          "output_type": "stream",
          "name": "stdout",
          "text": [
            "Enter value for a = 2\n",
            "Enter value for b= 4\n",
            " Value of a after swapping =  4.0\n",
            " value of b after swapping =  2.0\n"
          ]
        }
      ]
    },
    {
      "cell_type": "code",
      "source": [
        "string = \"helloworld\"\n",
        "print(string[-2:])  # using this function last characters are printed from string"
      ],
      "metadata": {
        "colab": {
          "base_uri": "https://localhost:8080/"
        },
        "id": "qYkVGEr60HJO",
        "outputId": "301d66f5-9d90-4bd2-d921-113ebd813c40"
      },
      "execution_count": null,
      "outputs": [
        {
          "output_type": "stream",
          "name": "stdout",
          "text": [
            "ld\n"
          ]
        }
      ]
    },
    {
      "cell_type": "code",
      "source": [
        "str=\"ajay\"\n",
        "print(str[::-1])  # this fucn is used to revesrse the string "
      ],
      "metadata": {
        "colab": {
          "base_uri": "https://localhost:8080/"
        },
        "id": "-v-OsM4n1LgM",
        "outputId": "b93af5cc-e98d-4ecb-dc3f-9697156d54b1"
      },
      "execution_count": null,
      "outputs": [
        {
          "output_type": "stream",
          "name": "stdout",
          "text": [
            "yaja\n"
          ]
        }
      ]
    },
    {
      "cell_type": "code",
      "source": [
        "p=int(input(\"Enter the principal amount p = \"))\n",
        "r=int(input(\"Enter the rate at which intrest is to paid r = \"))\n",
        "t=int(input(\"Enter the time duration for amount to be paid = \"))\n",
        "#a=p*(1+(r/100))**t # ** indiactes exponent value\n",
        "A=p*(pow((1 + r/ 100), t))\n",
        "CI=a-p\n",
        "print(\"The Coumpound intrest for given principal amount is = \",CI)\n"
      ],
      "metadata": {
        "colab": {
          "base_uri": "https://localhost:8080/"
        },
        "id": "HEeVobE49bI_",
        "outputId": "89fd2dcd-6a3b-4c48-b77f-81f720ac1b0a"
      },
      "execution_count": 6,
      "outputs": [
        {
          "output_type": "stream",
          "name": "stdout",
          "text": [
            "Enter the principal amount p = 100\n",
            "Enter the rate at which intrest is to paid r = 100\n",
            "Enter the time duration for amount to be paid = 2\n",
            "The Coumpound intrest for given principal amount is =  300.0\n"
          ]
        }
      ]
    },
    {
      "cell_type": "code",
      "source": [
        "#python program for simple intrest \n",
        "p=int(input(\"Enter the principal amount = \"))\n",
        "t=int(input(\"Enter the time period = \"))\n",
        "R=int(input(\"Enter the rate at which intrest is to be paid = \" ))\n",
        "ans = (p*t*R)/100\n",
        "print(\"The Simple intrest is = \",ans)\n",
        "\n"
      ],
      "metadata": {
        "colab": {
          "base_uri": "https://localhost:8080/"
        },
        "id": "FuEEaW2zBSGp",
        "outputId": "2962452f-9035-4e67-e6ab-395a29e8650f"
      },
      "execution_count": 7,
      "outputs": [
        {
          "output_type": "stream",
          "name": "stdout",
          "text": [
            "Enter the principal amount = 100\n",
            "Enter the time period = 2\n",
            "Enter the rate at which intrest is to be paid = 8\n",
            "The Simple intrest is =  16.0\n"
          ]
        }
      ]
    }
  ]
}